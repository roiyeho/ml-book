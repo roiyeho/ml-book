{
 "cells": [
  {
   "cell_type": "code",
   "execution_count": 1,
   "id": "0c41a4b3-f581-468e-abca-7c7fdec8fa94",
   "metadata": {},
   "outputs": [],
   "source": [
    "# Author: Roi Yehoshua <roiyeho@gmail.com>\n",
    "# August 2024\n",
    "# License: MIT"
   ]
  },
  {
   "cell_type": "code",
   "execution_count": 2,
   "id": "4070506a-d41a-428f-ac55-2b5f9cdce7d2",
   "metadata": {},
   "outputs": [],
   "source": [
    "import numpy as np\n",
    "import pandas as pd\n",
    "import matplotlib.pyplot as plt\n",
    "import time\n",
    "import os\n",
    "import csv"
   ]
  },
  {
   "cell_type": "markdown",
   "id": "2667d286-2360-4fb4-be44-7a3c5fbb1d15",
   "metadata": {},
   "source": [
    "Data Loading and Preprocessing"
   ]
  },
  {
   "cell_type": "code",
   "execution_count": 3,
   "id": "20313260-0eea-4479-aec9-88e9bd6485ec",
   "metadata": {},
   "outputs": [],
   "source": [
    "from sklearn.datasets import load_digits\n",
    "from sklearn.model_selection import train_test_split\n",
    "from sklearn.preprocessing import StandardScaler\n",
    "\n",
    "# Load the digits dataset\n",
    "X, y = load_digits(return_X_y=True)\n",
    "\n",
    "# Split data into training and test sets\n",
    "X_train, X_test, y_train, y_test = train_test_split(X, y, test_size=0.2, random_state=42)\n",
    "\n",
    "# Standard scaling\n",
    "scaler = StandardScaler()\n",
    "X_train = scaler.fit_transform(X_train)\n",
    "X_test = scaler.transform(X_test)"
   ]
  },
  {
   "cell_type": "markdown",
   "id": "a44a967f-643b-4d59-a09a-728272bcb7a5",
   "metadata": {},
   "source": [
    "Defining the Models to Compare"
   ]
  },
  {
   "cell_type": "code",
   "execution_count": 4,
   "id": "a0e90fa4-c541-438a-a386-5e52e094dc88",
   "metadata": {},
   "outputs": [],
   "source": [
    "from sklearn.linear_model import LogisticRegression\n",
    "from sklearn.neighbors import KNeighborsClassifier\n",
    "from sklearn.ensemble import RandomForestClassifier, HistGradientBoostingClassifier\n",
    "from sklearn.svm import SVC\n",
    "from sklearn.neural_network import MLPClassifier\n",
    "\n",
    "models = {\n",
    "    'Logistic Regression': LogisticRegression(max_iter=1000),\n",
    "    'KNN': KNeighborsClassifier(),\n",
    "    'Random Forest': RandomForestClassifier(),\n",
    "    'Gradient Boosting': HistGradientBoostingClassifier(),\n",
    "    'SVM': SVC(),\n",
    "    'MLP': MLPClassifier()\n",
    "}"
   ]
  },
  {
   "cell_type": "markdown",
   "id": "9615b4e9-3956-4d6d-92ad-508ecbc13d61",
   "metadata": {},
   "source": [
    "Model Training and Evaluation"
   ]
  },
  {
   "cell_type": "code",
   "execution_count": 5,
   "id": "bda2b4cc-14f3-4553-9c69-42aaacd87109",
   "metadata": {},
   "outputs": [],
   "source": [
    "from sklearn.model_selection import KFold\n",
    "\n",
    "def run_experiments(models, X_train, y_train, n_seeds=3):\n",
    "    \"\"\"\n",
    "    Train and evaluate each model using multiple random seeds and cross-validation.\n",
    "    \n",
    "    Parameters:\n",
    "    - models (list of tuples): A list of tuples where each tuple contains a model name (str) \n",
    "      and its corresponding Scikit-Learn estimator.\n",
    "    - X_train (ndarray): Training feature matrix.\n",
    "    - y_train (ndarray): Training labels.\n",
    "    - n_seeds (int): Number of random seeds to use for reproducibility and evaluation. \n",
    "\n",
    "    Returns:\n",
    "    - results (dict): A dictionary containing evaluation metrics and training times for each model. \n",
    "      The structure is as follows:\n",
    "        {\n",
    "            'model_name': {\n",
    "                'raw_accuracy_scores': list of scores across folds and seeds,\n",
    "                'accuracy_mean': float,\n",
    "                'accuracy_std': float,\n",
    "                'training_time': float\n",
    "            },\n",
    "            ...\n",
    "        }\n",
    "    \"\"\"\n",
    "    results = {} # Dictionary to store evaluation metrics and training times\n",
    "    \n",
    "    for name, model in models.items():\n",
    "        accuracy_scores = []\n",
    "        training_times = []\n",
    "        \n",
    "        for seed in range(42, 42 + n_seeds):\n",
    "            # Set random seed if applicable\n",
    "            if 'random_state' in model.get_params():\n",
    "                model.set_params(random_state=seed)\n",
    "            \n",
    "            # Cross-validation with shuffled splits\n",
    "            cv = KFold(n_splits=5, shuffle=True, random_state=seed)\n",
    "            for train_index, test_index in cv.split(X_train):\n",
    "                X_cv_train, X_cv_test = X_train[train_index], X_train[test_index]\n",
    "                y_cv_train, y_cv_test = y_train[train_index], y_train[test_index]\n",
    "    \n",
    "                # Fit model and record training time\n",
    "                start_time = time.time()\n",
    "                model.fit(X_cv_train, y_cv_train)\n",
    "                end_time = time.time()   \n",
    "                training_time = end_time - start_time\n",
    "                training_times.append(training_time)\n",
    "    \n",
    "                # Evaluate the model on the test fold\n",
    "                score = model.score(X_cv_test, y_cv_test)\n",
    "                accuracy_scores.append(score)\n",
    "        \n",
    "        results[name] = {\n",
    "            'raw_accuracy_scores': accuracy_scores,  \n",
    "            'accuracy_mean': np.mean(accuracy_scores),\n",
    "            'accuracy_std': np.std(accuracy_scores, ddof=1),  # Bessel's correction\n",
    "            'training_time': np.mean(training_times)\n",
    "        }\n",
    "\n",
    "    return results"
   ]
  },
  {
   "cell_type": "code",
   "execution_count": 6,
   "id": "88f4d917-671f-40b8-8cfd-e9f6fb0c4d3e",
   "metadata": {},
   "outputs": [],
   "source": [
    "results = run_experiments(models, X_train, y_train)"
   ]
  },
  {
   "cell_type": "code",
   "execution_count": 7,
   "id": "8cad43fa-74bb-41fe-b487-e6c764587087",
   "metadata": {
    "scrolled": true
   },
   "outputs": [
    {
     "name": "stdout",
     "output_type": "stream",
     "text": [
      "                     accuracy_mean  accuracy_std  training_time\n",
      "Logistic Regression       0.968686      0.008316       0.044167\n",
      "KNN                       0.971696      0.010683       0.000865\n",
      "Random Forest             0.971926      0.010893       0.279609\n",
      "Gradient Boosting         0.967756      0.008047       2.199793\n",
      "SVM                       0.980508      0.008619       0.037620\n",
      "MLP                       0.975640      0.010851       1.199283\n"
     ]
    }
   ],
   "source": [
    "df_results = pd.DataFrame.from_dict(results, orient='index')\n",
    "df_results = df_results.drop(['raw_accuracy_scores'], axis=1)\n",
    "print(df_results)"
   ]
  },
  {
   "cell_type": "markdown",
   "id": "9a213cc0-116a-461c-aa0a-404ef4fba8c3",
   "metadata": {},
   "source": [
    "Logging"
   ]
  },
  {
   "cell_type": "code",
   "execution_count": 8,
   "id": "00b01dc4-109e-42c3-8c0d-f4c7b43439ed",
   "metadata": {},
   "outputs": [],
   "source": [
    "from datetime import datetime\n",
    "\n",
    "# Create the /logs directory if it doesn't exist\n",
    "os.makedirs('logs', exist_ok=True)\n",
    "\n",
    "# Generate a timestamped filename\n",
    "timestamp = datetime.now().strftime('%Y-%m-%d_%H-%M-%S')\n",
    "filename = f'logs/digits_results_{timestamp}.csv'\n",
    "\n",
    "# Write results to CSV\n",
    "with open(filename, 'w', newline='') as file:\n",
    "    writer = csv.writer(file)\n",
    "    writer.writerow(['Model Name', 'Raw Accuracy Scores', 'Accuracy Mean', 'Accuracy Std', \n",
    "                     'Training Time'])\n",
    "    for model_name, metrics in results.items():\n",
    "        writer.writerow([model_name, metrics['raw_accuracy_scores'], metrics['accuracy_mean'], \n",
    "                         metrics['accuracy_std'], metrics['training_time']])"
   ]
  },
  {
   "cell_type": "markdown",
   "id": "6fbeb881-bd1a-4c40-8f60-2f3ebe011e6a",
   "metadata": {},
   "source": [
    "Visualization of the Results"
   ]
  },
  {
   "cell_type": "code",
   "execution_count": 9,
   "id": "7aaf5ebf-828d-44f2-9539-5c265a5b0504",
   "metadata": {},
   "outputs": [
    {
     "data": {
      "image/png": "[encoded data removed]",
      "text/plain": [
       "<Figure size 640x480 with 1 Axes>"
      ]
     },
     "metadata": {},
     "output_type": "display_data"
    }
   ],
   "source": [
    "# Plot accuracy results\n",
    "accuracies = [metrics['accuracy_mean'] for metrics in results.values()]\n",
    "std_errors = [metrics['accuracy_std'] for metrics in results.values()]\n",
    "model_names = list(results.keys())\n",
    "\n",
    "plt.bar(model_names, accuracies, yerr=std_errors, capsize=5)\n",
    "plt.ylabel('Accuracy')\n",
    "plt.ylim([0.9, 1.0])\n",
    "plt.xticks(rotation=45)\n",
    "plt.tight_layout() \n",
    "plt.savefig('figures/model_comparison_accuracy.pdf')"
   ]
  },
  {
   "cell_type": "code",
   "execution_count": 10,
   "id": "36d23f66-f6b8-4b28-af4b-5a9877b0dd8c",
   "metadata": {},
   "outputs": [
    {
     "data": {
      "image/png": "[encoded data removed]",
      "text/plain": [
       "<Figure size 640x480 with 1 Axes>"
      ]
     },
     "metadata": {},
     "output_type": "display_data"
    }
   ],
   "source": [
    "# Plot training times\n",
    "training_times = [results[name]['training_time'] for name in model_names]\n",
    "\n",
    "plt.bar(model_names, training_times, color='red')\n",
    "plt.ylabel('Training Time (seconds)')\n",
    "plt.ylim([0, max(training_times) * 1.2])  \n",
    "plt.xticks(rotation=45)\n",
    "plt.tight_layout()\n",
    "plt.savefig('figures/model_comparison_training_time.pdf')"
   ]
  },
  {
   "cell_type": "markdown",
   "id": "d4152efc-e36f-4422-90aa-2a3ac7acbf45",
   "metadata": {},
   "source": [
    "Confidence Intervals"
   ]
  },
  {
   "cell_type": "code",
   "execution_count": 11,
   "id": "b7119ad1-58f7-4cb6-960f-c58a5478fac6",
   "metadata": {},
   "outputs": [],
   "source": [
    "from scipy.stats import norm\n",
    "\n",
    "def compute_confidence_interval(scores, confidence=0.95):\n",
    "    \"\"\"Compute the confidence interval for a model's accuracy.\n",
    "    Arguments:\n",
    "    - scores: Cross-validation accuracy scores for the model.\n",
    "    - confidence: The confidence level, typically 0.95 for a 95% confidence interval.\n",
    "    Returns:\n",
    "    - tuple: (lower bound, upper bound) of the confidence interval.\n",
    "    \"\"\"\n",
    "    mean_score = np.mean(scores)\n",
    "    sem = np.std(scores, ddof=1) / np.sqrt(len(scores)) # standard error of mean\n",
    "    z_value = norm.ppf((1 + confidence) / 2)  \n",
    "    margin_of_error = z_value * sem\n",
    "    return mean_score - margin_of_error, mean_score + margin_of_error"
   ]
  },
  {
   "cell_type": "code",
   "execution_count": 12,
   "id": "00258f29-0cbe-4bee-8196-77b8d2c95753",
   "metadata": {},
   "outputs": [],
   "source": [
    "# Compute confidence intervals for each model\n",
    "for name, metrics in results.items():\n",
    "    lower, upper = compute_confidence_interval(metrics['raw_accuracy_scores'])\n",
    "    results[name]['confidence_interval'] = (lower, upper)"
   ]
  },
  {
   "cell_type": "code",
   "execution_count": 13,
   "id": "7be7c6a3-3a44-4388-8083-a9aecd4ff72b",
   "metadata": {},
   "outputs": [
    {
     "data": {
      "text/html": [
       "<div>\n",
       "<style scoped>\n",
       "    .dataframe tbody tr th:only-of-type {\n",
       "        vertical-align: middle;\n",
       "    }\n",
       "\n",
       "    .dataframe tbody tr th {\n",
       "        vertical-align: top;\n",
       "    }\n",
       "\n",
       "    .dataframe thead th {\n",
       "        text-align: right;\n",
       "    }\n",
       "</style>\n",
       "<table border=\"1\" class=\"dataframe\">\n",
       "  <thead>\n",
       "    <tr style=\"text-align: right;\">\n",
       "      <th></th>\n",
       "      <th>Logistic Regression</th>\n",
       "      <th>KNN</th>\n",
       "      <th>Random Forest</th>\n",
       "      <th>Gradient Boosting</th>\n",
       "      <th>SVM</th>\n",
       "      <th>MLP</th>\n",
       "    </tr>\n",
       "  </thead>\n",
       "  <tbody>\n",
       "    <tr>\n",
       "      <th>Accuracy (95% CI)</th>\n",
       "      <td>0.969 (0.964, 0.973)</td>\n",
       "      <td>0.972 (0.966, 0.977)</td>\n",
       "      <td>0.972 (0.966, 0.977)</td>\n",
       "      <td>0.968 (0.964, 0.972)</td>\n",
       "      <td>0.981 (0.976, 0.985)</td>\n",
       "      <td>0.976 (0.970, 0.981)</td>\n",
       "    </tr>\n",
       "  </tbody>\n",
       "</table>\n",
       "</div>"
      ],
      "text/plain": [
       "                    Logistic Regression                   KNN  \\\n",
       "Accuracy (95% CI)  0.969 (0.964, 0.973)  0.972 (0.966, 0.977)   \n",
       "\n",
       "                          Random Forest     Gradient Boosting  \\\n",
       "Accuracy (95% CI)  0.972 (0.966, 0.977)  0.968 (0.964, 0.972)   \n",
       "\n",
       "                                    SVM                   MLP  \n",
       "Accuracy (95% CI)  0.981 (0.976, 0.985)  0.976 (0.970, 0.981)  "
      ]
     },
     "execution_count": 13,
     "metadata": {},
     "output_type": "execute_result"
    }
   ],
   "source": [
    "# Show the confidence intervals in a table\n",
    "df_results = pd.DataFrame([\n",
    "    {model: f\"{data['accuracy_mean']:.3f} ({data['confidence_interval'][0]:.3f}, \"\n",
    "            f\"{data['confidence_interval'][1]:.3f})\"\n",
    "     for model, data in results.items()}\n",
    "], index=['Accuracy (95% CI)'])\n",
    "\n",
    "df_results"
   ]
  },
  {
   "cell_type": "markdown",
   "id": "44845921-0ad6-44e1-bd72-2f8b4d77f996",
   "metadata": {},
   "source": [
    "Statistical Significance Testing"
   ]
  },
  {
   "cell_type": "code",
   "execution_count": 14,
   "id": "e3c0042f-aa35-4a30-8740-f23c3a611d85",
   "metadata": {},
   "outputs": [
    {
     "name": "stdout",
     "output_type": "stream",
     "text": [
      "Paired t-test statistic: 2.5430, p-value: 0.0234\n"
     ]
    }
   ],
   "source": [
    "from scipy.stats import ttest_rel\n",
    "\n",
    "# Extract the accuracy scores of the two models\n",
    "scores_svm = np.array(results['SVM']['raw_accuracy_scores'])\n",
    "scores_mlp = np.array(results['MLP']['raw_accuracy_scores'])\n",
    "\n",
    "# Conduct paired t-test\n",
    "t_stat, p_val = ttest_rel(scores_svm, scores_mlp)\n",
    "print(f'Paired t-test statistic: {t_stat:.4f}, p-value: {p_val:.4f}')"
   ]
  },
  {
   "cell_type": "code",
   "execution_count": 15,
   "id": "34782570-83fa-47e9-af21-583cc49fbb65",
   "metadata": {},
   "outputs": [
    {
     "name": "stdout",
     "output_type": "stream",
     "text": [
      "Wilcoxon test statistic: 23.5000, p-value: 0.0413\n"
     ]
    }
   ],
   "source": [
    "from scipy.stats import wilcoxon\n",
    "\n",
    "# Conduct Wilcoxon signed-rank test\n",
    "w_stat, p_val = wilcoxon(scores_svm, scores_mlp)\n",
    "print(f'Wilcoxon test statistic: {w_stat:.4f}, p-value: {p_val:.4f}')"
   ]
  },
  {
   "cell_type": "code",
   "execution_count": 16,
   "id": "01349af4-b666-41e3-a5f2-d7c1313b1fb7",
   "metadata": {},
   "outputs": [
    {
     "name": "stdout",
     "output_type": "stream",
     "text": [
      "Friedman test statistic: 25.2888, p-value: 0.0001\n"
     ]
    }
   ],
   "source": [
    "from scipy.stats import friedmanchisquare\n",
    "\n",
    "# Extract relevant arrays from the results dictionary\n",
    "model_scores = {model: data['raw_accuracy_scores']\n",
    "                for model, data in results.items()}\n",
    "\n",
    "# Conduct the Friedman test\n",
    "f_stat, p_val = friedmanchisquare(*model_scores.values())\n",
    "print(f'Friedman test statistic: {f_stat:.4f}, p-value: {p_val:.4f}')"
   ]
  },
  {
   "cell_type": "code",
   "execution_count": 17,
   "id": "29112285-21f7-4120-ab74-cf2666f11173",
   "metadata": {},
   "outputs": [
    {
     "data": {
      "text/html": [
       "<div>\n",
       "<style scoped>\n",
       "    .dataframe tbody tr th:only-of-type {\n",
       "        vertical-align: middle;\n",
       "    }\n",
       "\n",
       "    .dataframe tbody tr th {\n",
       "        vertical-align: top;\n",
       "    }\n",
       "\n",
       "    .dataframe thead th {\n",
       "        text-align: right;\n",
       "    }\n",
       "</style>\n",
       "<table border=\"1\" class=\"dataframe\">\n",
       "  <thead>\n",
       "    <tr style=\"text-align: right;\">\n",
       "      <th></th>\n",
       "      <th>Logistic Regression</th>\n",
       "      <th>KNN</th>\n",
       "      <th>Random Forest</th>\n",
       "      <th>Gradient Boosting</th>\n",
       "      <th>SVM</th>\n",
       "      <th>MLP</th>\n",
       "    </tr>\n",
       "  </thead>\n",
       "  <tbody>\n",
       "    <tr>\n",
       "      <th>Logistic Regression</th>\n",
       "      <td>1.000000</td>\n",
       "      <td>0.850735</td>\n",
       "      <td>0.872331</td>\n",
       "      <td>0.997944</td>\n",
       "      <td>0.001616</td>\n",
       "      <td>0.239574</td>\n",
       "    </tr>\n",
       "    <tr>\n",
       "      <th>KNN</th>\n",
       "      <td>0.850735</td>\n",
       "      <td>1.000000</td>\n",
       "      <td>1.000000</td>\n",
       "      <td>0.591718</td>\n",
       "      <td>0.078461</td>\n",
       "      <td>0.909831</td>\n",
       "    </tr>\n",
       "    <tr>\n",
       "      <th>Random Forest</th>\n",
       "      <td>0.872331</td>\n",
       "      <td>1.000000</td>\n",
       "      <td>1.000000</td>\n",
       "      <td>0.624125</td>\n",
       "      <td>0.068976</td>\n",
       "      <td>0.892042</td>\n",
       "    </tr>\n",
       "    <tr>\n",
       "      <th>Gradient Boosting</th>\n",
       "      <td>0.997944</td>\n",
       "      <td>0.591718</td>\n",
       "      <td>0.624125</td>\n",
       "      <td>1.000000</td>\n",
       "      <td>0.000254</td>\n",
       "      <td>0.088978</td>\n",
       "    </tr>\n",
       "    <tr>\n",
       "      <th>SVM</th>\n",
       "      <td>0.001616</td>\n",
       "      <td>0.078461</td>\n",
       "      <td>0.068976</td>\n",
       "      <td>0.000254</td>\n",
       "      <td>1.000000</td>\n",
       "      <td>0.559106</td>\n",
       "    </tr>\n",
       "    <tr>\n",
       "      <th>MLP</th>\n",
       "      <td>0.239574</td>\n",
       "      <td>0.909831</td>\n",
       "      <td>0.892042</td>\n",
       "      <td>0.088978</td>\n",
       "      <td>0.559106</td>\n",
       "      <td>1.000000</td>\n",
       "    </tr>\n",
       "  </tbody>\n",
       "</table>\n",
       "</div>"
      ],
      "text/plain": [
       "                     Logistic Regression       KNN  Random Forest  \\\n",
       "Logistic Regression             1.000000  0.850735       0.872331   \n",
       "KNN                             0.850735  1.000000       1.000000   \n",
       "Random Forest                   0.872331  1.000000       1.000000   \n",
       "Gradient Boosting               0.997944  0.591718       0.624125   \n",
       "SVM                             0.001616  0.078461       0.068976   \n",
       "MLP                             0.239574  0.909831       0.892042   \n",
       "\n",
       "                     Gradient Boosting       SVM       MLP  \n",
       "Logistic Regression           0.997944  0.001616  0.239574  \n",
       "KNN                           0.591718  0.078461  0.909831  \n",
       "Random Forest                 0.624125  0.068976  0.892042  \n",
       "Gradient Boosting             1.000000  0.000254  0.088978  \n",
       "SVM                           0.000254  1.000000  0.559106  \n",
       "MLP                           0.088978  0.559106  1.000000  "
      ]
     },
     "execution_count": 17,
     "metadata": {},
     "output_type": "execute_result"
    }
   ],
   "source": [
    "import scikit_posthocs as sp\n",
    "\n",
    "df_scores = pd.DataFrame(model_scores)\n",
    "nemenyi_results = sp.posthoc_nemenyi_friedman(df_scores)\n",
    "nemenyi_results"
   ]
  },
  {
   "cell_type": "markdown",
   "id": "a75db98b-b902-49fe-86db-7978fdc2bc50",
   "metadata": {},
   "source": [
    "Critical Difference Diagram"
   ]
  },
  {
   "cell_type": "code",
   "execution_count": 18,
   "id": "d4bdfcea-a16f-4073-a14e-88f5e442867d",
   "metadata": {},
   "outputs": [
    {
     "data": {
      "image/png": "[encoded data removed]",
      "text/plain": [
       "<Figure size 640x480 with 1 Axes>"
      ]
     },
     "metadata": {},
     "output_type": "display_data"
    }
   ],
   "source": [
    "# Calculate ranks of the scores and the mean ranks\n",
    "df_ranks = df_scores.rank(axis=1, method='average', ascending=False)\n",
    "mean_ranks = df_ranks.mean(axis=0)\n",
    "\n",
    "# Plot CD diagram\n",
    "sp.critical_difference_diagram(mean_ranks, nemenyi_results)\n",
    "plt.savefig('figures/cd_diagram.pdf', bbox_inches='tight')"
   ]
  },
  {
   "cell_type": "markdown",
   "id": "f3052417-3ef2-46a7-8e1d-a4399e7a6aee",
   "metadata": {},
   "source": [
    "Final evaluation on the test set"
   ]
  },
  {
   "cell_type": "code",
   "execution_count": 19,
   "id": "2d926cd5-edb0-4aac-a689-6646ae5622a2",
   "metadata": {},
   "outputs": [
    {
     "name": "stdout",
     "output_type": "stream",
     "text": [
      "Accuracy on the test set:\n",
      "SVM: 0.9806\n",
      "MLP: 0.9806\n",
      "KNN: 0.9750\n",
      "Random Forest: 0.9722\n"
     ]
    }
   ],
   "source": [
    "# Evaluate models that showed no significant difference during CV\n",
    "selected_models = ['SVM', 'MLP', 'KNN', 'Random Forest']\n",
    "test_results = {}\n",
    "for name in selected_models:\n",
    "    model = models[name]\n",
    "    \n",
    "    # Retrain on the full training set\n",
    "    if 'random_state' in model.get_params():\n",
    "        model.set_params(random_state=42)\n",
    "    model.fit(X_train, y_train)\n",
    "    test_accuracy = model.score(X_test, y_test)\n",
    "    test_results[name] = test_accuracy\n",
    "\n",
    "# Display the test results\n",
    "print(\"Accuracy on the test set:\")\n",
    "for model_name, test_accuracy in test_results.items():\n",
    "    print(f'{model_name}: {test_accuracy:.4f}')"
   ]
  },
  {
   "cell_type": "code",
   "execution_count": null,
   "id": "7cd92230-a96e-479a-94ec-b83209076f24",
   "metadata": {},
   "outputs": [],
   "source": []
  }
 ],
 "metadata": {
  "kernelspec": {
   "display_name": "Python 3 (ipykernel)",
   "language": "python",
   "name": "python3"
  },
  "language_info": {
   "codemirror_mode": {
    "name": "ipython",
    "version": 3
   },
   "file_extension": ".py",
   "mimetype": "text/x-python",
   "name": "python",
   "nbconvert_exporter": "python",
   "pygments_lexer": "ipython3",
   "version": "3.11.5"
  }
 },
 "nbformat": 4,
 "nbformat_minor": 5
}
