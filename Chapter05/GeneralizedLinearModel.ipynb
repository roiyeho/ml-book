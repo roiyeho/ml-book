{
 "cells": [
  {
   "cell_type": "code",
   "execution_count": 1,
   "id": "b9aceb22",
   "metadata": {},
   "outputs": [],
   "source": [
    "# Author: Roi Yehoshua <roiyeho@gmail.com>\n",
    "# April 2024\n",
    "# License: MIT"
   ]
  },
  {
   "cell_type": "code",
   "execution_count": 2,
   "id": "aaf4738e",
   "metadata": {},
   "outputs": [
    {
     "name": "stdout",
     "output_type": "stream",
     "text": [
      "R2 score: 0.9884\n"
     ]
    }
   ],
   "source": [
    "from sklearn.linear_model import TweedieRegressor\n",
    "\n",
    "X = [[5], [10], [15], [18], [20], [25]]  # Daily average temperature (°C)\n",
    "y = [50, 80, 130, 180, 220, 300]   # Number of bike rentals\n",
    "\n",
    "reg = TweedieRegressor(power=1, link='log')  # power=1 for Poisson \n",
    "reg.fit(X, y)\n",
    "print(f'R2 score: {reg.score(X, y):.4f}')"
   ]
  },
  {
   "cell_type": "code",
   "execution_count": null,
   "id": "61972e65-25b4-491a-ad52-c4ded9f02971",
   "metadata": {},
   "outputs": [],
   "source": []
  }
 ],
 "metadata": {
  "kernelspec": {
   "display_name": "Python 3 (ipykernel)",
   "language": "python",
   "name": "python3"
  },
  "language_info": {
   "codemirror_mode": {
    "name": "ipython",
    "version": 3
   },
   "file_extension": ".py",
   "mimetype": "text/x-python",
   "name": "python",
   "nbconvert_exporter": "python",
   "pygments_lexer": "ipython3",
   "version": "3.11.5"
  }
 },
 "nbformat": 4,
 "nbformat_minor": 5
}
