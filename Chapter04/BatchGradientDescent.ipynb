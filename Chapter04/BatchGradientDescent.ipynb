{
 "cells": [
  {
   "cell_type": "code",
   "execution_count": 1,
   "id": "d02e966a",
   "metadata": {},
   "outputs": [],
   "source": [
    "# Author: Roi Yehoshua <roiyeho@gmail.com>\n",
    "# Date: February 2024\n",
    "# License: MIT"
   ]
  },
  {
   "cell_type": "code",
   "execution_count": 2,
   "id": "b94f0713",
   "metadata": {},
   "outputs": [],
   "source": [
    "import numpy as np\n",
    "import matplotlib.pyplot as plt\n",
    "\n",
    "np.random.seed(42)"
   ]
  },
  {
   "cell_type": "code",
   "execution_count": 3,
   "id": "c5a99b6d",
   "metadata": {},
   "outputs": [],
   "source": [
    "from sklearn.base import BaseEstimator, RegressorMixin\n",
    "\n",
    "class LinearRegressionBatchGD(BaseEstimator, RegressorMixin):\n",
    "    \"\"\"Linear regression using batch gradient descent\"\"\"\n",
    "    def __init__(self, alpha=0.1, max_iter=1000, tol=0.0001):\n",
    "        self.alpha = alpha        # Learning rate\n",
    "        self.max_iter = max_iter  # Maximum number of iterations\n",
    "        self.tol = tol            # Tolerance for stopping criterion \n",
    "        \n",
    "    def fit(self, X, y):\n",
    "        n = X.shape[0]  # Number of samples\n",
    "        d = X.shape[1]  # Number of features\n",
    "        \n",
    "        # Add an intercept term (bias) to X\n",
    "        X_b = np.c_[np.ones(n), X]\n",
    "        \n",
    "        # Initialize the parameter vector with random values\n",
    "        self.w_ = np.random.randn(d + 1)\n",
    "        \n",
    "        self.losses_ = []  # Tracks the loss over iterations\n",
    "        \n",
    "        # Training loop\n",
    "        for i in range(self.max_iter):\n",
    "            # Compute predictions\n",
    "            y_pred = X_b @ self.w_  \n",
    "            \n",
    "            # Calculate loss (mean squared error)\n",
    "            loss = np.mean((y_pred - y)**2)\n",
    "            self.losses_.append(loss)\n",
    "            \n",
    "            # Check for convergence\n",
    "            if i > 0 and (self.losses_[-2] - loss) < self.tol:\n",
    "                break\n",
    "            \n",
    "            # Compute gradients                 \n",
    "            gradients = 1 / n * X_b.T @ (y_pred - y)\n",
    "            \n",
    "            # Update weights\n",
    "            self.w_ -= self.alpha * gradients\n",
    "        \n",
    "    def predict(self, X):\n",
    "        n = X.shape[0]      \n",
    "        X_b = np.c_[np.ones(n), X]  # Add the intercept term\n",
    "        y_pred = X_b @ self.w_\n",
    "        return y_pred      "
   ]
  },
  {
   "cell_type": "code",
   "execution_count": 4,
   "id": "6ec9119f",
   "metadata": {},
   "outputs": [],
   "source": [
    "def generate_data(n=100):\n",
    "    # Generate synthetic data with two features and linearly correlated label\n",
    "    np.random.seed(42)  \n",
    "\n",
    "    x1 = 2 * np.random.rand(n)\n",
    "    x2 = 3 * np.random.rand(n)\n",
    "    y = 5 + 1 * x1 + 2 * x2 + np.random.randn(n)\n",
    "    X = np.c_[x1, x2]  \n",
    "    return X, y"
   ]
  },
  {
   "cell_type": "code",
   "execution_count": 5,
   "id": "fe8caed5",
   "metadata": {},
   "outputs": [],
   "source": [
    "X, y = generate_data()\n",
    "\n",
    "model = LinearRegressionBatchGD()\n",
    "model.fit(X, y)"
   ]
  },
  {
   "cell_type": "code",
   "execution_count": 6,
   "id": "183964f4",
   "metadata": {},
   "outputs": [
    {
     "name": "stdout",
     "output_type": "stream",
     "text": [
      "Coefficients: [4.7455 0.9104 2.2863]\n"
     ]
    }
   ],
   "source": [
    "print('Coefficients:', np.round(model.w_, 4))"
   ]
  },
  {
   "cell_type": "code",
   "execution_count": 7,
   "id": "38dfe626",
   "metadata": {},
   "outputs": [
    {
     "name": "stdout",
     "output_type": "stream",
     "text": [
      "Number of iterations for convergence: 182\n"
     ]
    }
   ],
   "source": [
    "print('Number of iterations for convergence:', len(model.losses_))"
   ]
  },
  {
   "cell_type": "code",
   "execution_count": 8,
   "id": "7f15f5ad",
   "metadata": {},
   "outputs": [
    {
     "name": "stdout",
     "output_type": "stream",
     "text": [
      "RMSE: 0.9746\n",
      "R2 score: 0.8085\n"
     ]
    }
   ],
   "source": [
    "from sklearn.metrics import root_mean_squared_error as RMSE\n",
    "\n",
    "y_pred = model.predict(X)\n",
    "rmse = RMSE(y, y_pred)\n",
    "print(f'RMSE: {rmse:.4f}')\n",
    "\n",
    "r2_score = model.score(X, y)\n",
    "print(f'R2 score: {r2_score:.4f}')"
   ]
  },
  {
   "cell_type": "code",
   "execution_count": 9,
   "id": "659e41c1",
   "metadata": {
    "scrolled": true
   },
   "outputs": [
    {
     "data": {
      "image/png": "[encoded data removed]",
      "text/plain": [
       "<Figure size 640x480 with 1 Axes>"
      ]
     },
     "metadata": {},
     "output_type": "display_data"
    }
   ],
   "source": [
    "# Plot the learning curve\n",
    "plt.plot(model.losses_)\n",
    "plt.xlabel('Iteration')\n",
    "plt.ylabel('Loss')\n",
    "\n",
    "plt.savefig('figures/batch_gd_learning_curve.pdf')"
   ]
  },
  {
   "cell_type": "code",
   "execution_count": null,
   "id": "361139aa",
   "metadata": {},
   "outputs": [],
   "source": []
  }
 ],
 "metadata": {
  "kernelspec": {
   "display_name": "Python 3 (ipykernel)",
   "language": "python",
   "name": "python3"
  },
  "language_info": {
   "codemirror_mode": {
    "name": "ipython",
    "version": 3
   },
   "file_extension": ".py",
   "mimetype": "text/x-python",
   "name": "python",
   "nbconvert_exporter": "python",
   "pygments_lexer": "ipython3",
   "version": "3.11.5"
  }
 },
 "nbformat": 4,
 "nbformat_minor": 5
}
