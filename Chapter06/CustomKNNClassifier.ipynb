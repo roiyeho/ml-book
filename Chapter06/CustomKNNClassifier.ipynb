{
 "cells": [
  {
   "cell_type": "code",
   "execution_count": 1,
   "id": "5aba65c6",
   "metadata": {},
   "outputs": [],
   "source": [
    "# Author: Roi Yehoshua <roiyeho@gmail.com>\n",
    "# April 2024\n",
    "# License: MIT"
   ]
  },
  {
   "cell_type": "code",
   "execution_count": 2,
   "id": "c8c8e672",
   "metadata": {},
   "outputs": [],
   "source": [
    "import numpy as np\n",
    "from sklearn.base import BaseEstimator\n",
    "from scipy.stats import mode"
   ]
  },
  {
   "cell_type": "code",
   "execution_count": 3,
   "id": "461fadea",
   "metadata": {},
   "outputs": [],
   "source": [
    "class KNNClassifier(BaseEstimator):\n",
    "    def __init__(self, k=5):\n",
    "        self.k = k  # Number of nearest neighbors       \n",
    "        \n",
    "    def fit(self, X, y):\n",
    "        # Store the training examples and their labels\n",
    "        self.X_train = X\n",
    "        self.y_train = y\n",
    "                \n",
    "    def predict(self, x):\n",
    "        # Compute squared Euclidean distances \n",
    "        distances = np.sum((self.X_train - x)**2, axis=1)\n",
    "        \n",
    "        # Find indices of the k nearest neighbors\n",
    "        neighbors_idx = distances.argsort()[:self.k]\n",
    "        \n",
    "        # Get the labels of the nearest neighbors\n",
    "        neighbors_labels = self.y_train[neighbors_idx]\n",
    "        \n",
    "        # Return the most frequent label among the neighbors\n",
    "        return mode(neighbors_labels).mode"
   ]
  },
  {
   "cell_type": "code",
   "execution_count": 4,
   "id": "a55bae40",
   "metadata": {},
   "outputs": [],
   "source": [
    "X_train = np.array([[1, 4, 1], [1, 0, -2], [0, 0, 1], [-1, 4, 0], \n",
    "                    [-1, -1, 1], [1, 2, 3], [0, -4, 0], [1, 0, -3]])\n",
    "y_train = np.array([1, 0, 0, 1, 1, 1, 0, 0])"
   ]
  },
  {
   "cell_type": "code",
   "execution_count": 5,
   "id": "645ae1d9",
   "metadata": {},
   "outputs": [],
   "source": [
    "knn = KNNClassifier(k=3)\n",
    "knn.fit(X_train, y_train)"
   ]
  },
  {
   "cell_type": "code",
   "execution_count": 6,
   "id": "8d04563c",
   "metadata": {},
   "outputs": [
    {
     "name": "stdout",
     "output_type": "stream",
     "text": [
      "Label: 1\n"
     ]
    }
   ],
   "source": [
    "X_new = np.array([1, 0, 1])\n",
    "label = knn.predict(X_new)\n",
    "print(f'Label: {label}')"
   ]
  },
  {
   "cell_type": "code",
   "execution_count": null,
   "id": "e61a5394-2c86-46d4-9dd0-9245b1e3b68c",
   "metadata": {},
   "outputs": [],
   "source": []
  }
 ],
 "metadata": {
  "kernelspec": {
   "display_name": "Python 3 (ipykernel)",
   "language": "python",
   "name": "python3"
  },
  "language_info": {
   "codemirror_mode": {
    "name": "ipython",
    "version": 3
   },
   "file_extension": ".py",
   "mimetype": "text/x-python",
   "name": "python",
   "nbconvert_exporter": "python",
   "pygments_lexer": "ipython3",
   "version": "3.11.5"
  }
 },
 "nbformat": 4,
 "nbformat_minor": 5
}
